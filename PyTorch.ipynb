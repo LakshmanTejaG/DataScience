{
  "nbformat": 4,
  "nbformat_minor": 0,
  "metadata": {
    "colab": {
      "name": "PyTorch.ipynb",
      "provenance": [],
      "collapsed_sections": [],
      "include_colab_link": true
    },
    "kernelspec": {
      "name": "python3",
      "display_name": "Python 3"
    }
  },
  "cells": [
    {
      "cell_type": "markdown",
      "metadata": {
        "id": "view-in-github",
        "colab_type": "text"
      },
      "source": [
        "<a href=\"https://colab.research.google.com/github/LakshmanTejaG/DataScience/blob/master/PyTorch.ipynb\" target=\"_parent\"><img src=\"https://colab.research.google.com/assets/colab-badge.svg\" alt=\"Open In Colab\"/></a>"
      ]
    },
    {
      "cell_type": "code",
      "metadata": {
        "id": "ItBIj9eFkvgP",
        "colab_type": "code",
        "colab": {
          "base_uri": "https://localhost:8080/",
          "height": 295
        },
        "outputId": "c8e47bd2-2a10-438f-80e1-5274688468aa"
      },
      "source": [
        "import torch\n",
        "\n",
        "import numpy as np\n",
        "import matplotlib.pyplot as plt\n",
        "\n",
        "teja = torch.tensor([1,2,3,4,5,6])\n",
        "teja\n",
        "teja[0].dtype\n",
        "lakshman = torch.FloatTensor([1,2,3,4,5,6])\n",
        "lakshman.size()\n",
        "teja.view(3,2)\n",
        "lakshman.view(6,1)\n",
        "\n",
        "#Creating numpy array\n",
        "ganta = np.array([1,2,3,4,5,6])\n",
        "ganta\n",
        "\n",
        "#Converting Numpy array to tensor array\n",
        "ganta_tensor = torch.from_numpy(ganta)\n",
        "ganta_tensor\n",
        "\n",
        "#Converting Tensor array to Numpy array\n",
        "ganta_numpy = ganta_tensor.numpy()\n",
        "ganta_numpy\n",
        "\n",
        "sampath = torch.tensor([1,2,3])\n",
        "ramteja = torch.tensor([1,2,3])\n",
        "sampath + ramteja\n",
        "sampath * 5\n",
        "\n",
        "dot_vector = torch.dot(sampath,ramteja) # it multipy the two vectors\n",
        "dot_vector\n",
        "\n",
        "lin_space_x = torch.linspace(0,10,100)\n",
        "\n",
        "lin_space_y = torch.exp(lin_space_x)\n",
        "#lin_space_y = torch.sin(lin_space_y)\n",
        "\n",
        "plt.plot(lin_space_x.numpy(),lin_space_y.numpy())\n",
        "plt.title('PyTorch')\n",
        "plt.xlabel('X variables')\n",
        "plt.ylabel('Y variables')\n",
        "plt.show()"
      ],
      "execution_count": 14,
      "outputs": [
        {
          "output_type": "display_data",
          "data": {
            "image/png": "[encoded data removed]",
            "text/plain": [
              "<Figure size 432x288 with 1 Axes>"
            ]
          },
          "metadata": {
            "tags": []
          }
        }
      ]
    },
    {
      "cell_type": "code",
      "metadata": {
        "id": "M6deraoeukyC",
        "colab_type": "code",
        "colab": {
          "base_uri": "https://localhost:8080/",
          "height": 136
        },
        "outputId": "e9717118-99e9-4fcd-ec1d-caf91df7d5c1"
      },
      "source": [
        "one_D = torch.arange(0,9)\n",
        "\n",
        "two_D = one_D.view(3,3)\n",
        "two_D\n",
        "\n",
        "two_D[0,1]\n",
        "\n",
        "v = torch.arange(18).view(2,3,3)\n",
        "v"
      ],
      "execution_count": 26,
      "outputs": [
        {
          "output_type": "execute_result",
          "data": {
            "text/plain": [
              "tensor([[[ 0,  1,  2],\n",
              "         [ 3,  4,  5],\n",
              "         [ 6,  7,  8]],\n",
              "\n",
              "        [[ 9, 10, 11],\n",
              "         [12, 13, 14],\n",
              "         [15, 16, 17]]])"
            ]
          },
          "metadata": {
            "tags": []
          },
          "execution_count": 26
        }
      ]
    }
  ]
}